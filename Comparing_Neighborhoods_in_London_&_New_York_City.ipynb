{
  "nbformat": 4,
  "nbformat_minor": 0,
  "metadata": {
    "colab": {
      "name": "Comparing Neighborhoods in London & New York City.ipynb",
      "provenance": [],
      "authorship_tag": "ABX9TyNlz2f8NN36fZEETDSDYZ+1",
      "include_colab_link": true
    },
    "kernelspec": {
      "name": "python3",
      "display_name": "Python 3"
    }
  },
  "cells": [
    {
      "cell_type": "markdown",
      "metadata": {
        "id": "view-in-github",
        "colab_type": "text"
      },
      "source": [
        "<a href=\"https://colab.research.google.com/github/clairemasse/Coursera_capstone/blob/master/Comparing_Neighborhoods_in_London_%26_New_York_City.ipynb\" target=\"_parent\"><img src=\"https://colab.research.google.com/assets/colab-badge.svg\" alt=\"Open In Colab\"/></a>"
      ]
    },
    {
      "cell_type": "markdown",
      "metadata": {
        "id": "im15MpMXRvD7",
        "colab_type": "text"
      },
      "source": [
        "Coursera Capstone Final Project:\n"
      ]
    },
    {
      "cell_type": "code",
      "metadata": {
        "id": "UNXNHnGAEsAH",
        "colab_type": "code",
        "colab": {
          "base_uri": "https://localhost:8080/",
          "height": 52
        },
        "outputId": "e18915ce-c083-4b0e-e506-213db3d49ec2"
      },
      "source": [
        "#Import all necessary libraries\n",
        "\n",
        "import pandas as pd\n",
        "import numpy as np\n",
        "from IPython.display import display\n",
        "import requests\n",
        "import json\n",
        "from sklearn.cluster import KMeans\n",
        "from geopy.geocoders import Nominatim\n",
        "from IPython.display import Image\n",
        "from IPython.core.display import HTML\n",
        "# transforming json file into a pandas dataframe library\n",
        "from pandas.io.json import json_normalize\n",
        "\n",
        "!conda install -c conda-forge folium=0.5.0 --yes\n",
        "import folium\n",
        "\n",
        "print('Folium installed!')"
      ],
      "execution_count": 1,
      "outputs": [
        {
          "output_type": "stream",
          "text": [
            "/bin/bash: conda: command not found\n",
            "Folium installed!\n"
          ],
          "name": "stdout"
        }
      ]
    },
    {
      "cell_type": "markdown",
      "metadata": {
        "id": "WGWpeJyt8_0I",
        "colab_type": "text"
      },
      "source": [
        "## Introduction/Business Problem: ##\n",
        "\n",
        "I lived in New York City for  3 years, the last of which I lived in Bedford-Stuyvesant, Brooklyn. I am hoping to move to London in the next few months, and will need to think about which neighborhood I should aim to live in. So for this project, I decided to compare neighborhoods in both cities to see which neighborhood in London is the most similar to the one I lived in in Brooklyn. \n",
        "\n",
        "I will be using geographical data available online for both cities as well as the Foursquare API in order to examine and compare the venues (restaurants, bars, gyms, stores...) in different neighborhoods of both cities. "
      ]
    },
    {
      "cell_type": "code",
      "metadata": {
        "id": "nZLwBGUgRuoo",
        "colab_type": "code",
        "colab": {}
      },
      "source": [
        "# Importing Brooklyn neighborhood data\n",
        "bk = pd.read_html('http://www.brooklynproperty.com/Brooklyn/ZipCodes.htm')[0]"
      ],
      "execution_count": 2,
      "outputs": []
    },
    {
      "cell_type": "code",
      "metadata": {
        "id": "6cOTNJBu_y_y",
        "colab_type": "code",
        "colab": {
          "base_uri": "https://localhost:8080/",
          "height": 617
        },
        "outputId": "9e56a58b-2ed2-4b37-eb4b-02e8082ea386"
      },
      "source": [
        "bk"
      ],
      "execution_count": 3,
      "outputs": [
        {
          "output_type": "execute_result",
          "data": {
            "text/html": [
              "<div>\n",
              "<style scoped>\n",
              "    .dataframe tbody tr th:only-of-type {\n",
              "        vertical-align: middle;\n",
              "    }\n",
              "\n",
              "    .dataframe tbody tr th {\n",
              "        vertical-align: top;\n",
              "    }\n",
              "\n",
              "    .dataframe thead th {\n",
              "        text-align: right;\n",
              "    }\n",
              "</style>\n",
              "<table border=\"1\" class=\"dataframe\">\n",
              "  <thead>\n",
              "    <tr style=\"text-align: right;\">\n",
              "      <th></th>\n",
              "      <th>City Name</th>\n",
              "      <th>Zip Code</th>\n",
              "      <th>City Name.1</th>\n",
              "      <th>Zip Code.1</th>\n",
              "    </tr>\n",
              "  </thead>\n",
              "  <tbody>\n",
              "    <tr>\n",
              "      <th>0</th>\n",
              "      <td>Brooklyn Heights/Cobble Hill</td>\n",
              "      <td>11201</td>\n",
              "      <td>East Flatbush</td>\n",
              "      <td>11203.0</td>\n",
              "    </tr>\n",
              "    <tr>\n",
              "      <th>1</th>\n",
              "      <td>Parkville/Bensonhurst</td>\n",
              "      <td>11204</td>\n",
              "      <td>Fort Greene</td>\n",
              "      <td>11205.0</td>\n",
              "    </tr>\n",
              "    <tr>\n",
              "      <th>2</th>\n",
              "      <td>Williamsburg/Bedford-Stuyvesant</td>\n",
              "      <td>11206</td>\n",
              "      <td>East New York</td>\n",
              "      <td>11207.0</td>\n",
              "    </tr>\n",
              "    <tr>\n",
              "      <th>3</th>\n",
              "      <td>Cypress Hills</td>\n",
              "      <td>11208</td>\n",
              "      <td>Bay Ridge</td>\n",
              "      <td>11209.0</td>\n",
              "    </tr>\n",
              "    <tr>\n",
              "      <th>4</th>\n",
              "      <td>Vanderveer/Flatbush</td>\n",
              "      <td>11210</td>\n",
              "      <td>Williamsburg</td>\n",
              "      <td>11211.0</td>\n",
              "    </tr>\n",
              "    <tr>\n",
              "      <th>5</th>\n",
              "      <td>Brownsville</td>\n",
              "      <td>11212</td>\n",
              "      <td>Brower Park/Crown Heights</td>\n",
              "      <td>11213.0</td>\n",
              "    </tr>\n",
              "    <tr>\n",
              "      <th>6</th>\n",
              "      <td>Bath Beach/Bensonhurst</td>\n",
              "      <td>11214</td>\n",
              "      <td>Park Slope/Windsor Terrace</td>\n",
              "      <td>11215.0</td>\n",
              "    </tr>\n",
              "    <tr>\n",
              "      <th>7</th>\n",
              "      <td>Bedford-Stuyvesant</td>\n",
              "      <td>11216</td>\n",
              "      <td>Park Slope/Gowanus</td>\n",
              "      <td>11217.0</td>\n",
              "    </tr>\n",
              "    <tr>\n",
              "      <th>8</th>\n",
              "      <td>Kensington/Windsor Terrace</td>\n",
              "      <td>11218</td>\n",
              "      <td>Borough Park</td>\n",
              "      <td>11219.0</td>\n",
              "    </tr>\n",
              "    <tr>\n",
              "      <th>9</th>\n",
              "      <td>Sunset Park</td>\n",
              "      <td>11220</td>\n",
              "      <td>Bushwick/Bedford-Stuyvesant</td>\n",
              "      <td>11221.0</td>\n",
              "    </tr>\n",
              "    <tr>\n",
              "      <th>10</th>\n",
              "      <td>Greenpoint</td>\n",
              "      <td>11222</td>\n",
              "      <td>Gravesend/Homecrest</td>\n",
              "      <td>11223.0</td>\n",
              "    </tr>\n",
              "    <tr>\n",
              "      <th>11</th>\n",
              "      <td>Coney Island</td>\n",
              "      <td>11224</td>\n",
              "      <td>Crown Heights</td>\n",
              "      <td>11225.0</td>\n",
              "    </tr>\n",
              "    <tr>\n",
              "      <th>12</th>\n",
              "      <td>Flatbush</td>\n",
              "      <td>11226</td>\n",
              "      <td>Dyker Heights</td>\n",
              "      <td>11228.0</td>\n",
              "    </tr>\n",
              "    <tr>\n",
              "      <th>13</th>\n",
              "      <td>Homecrest/Madison</td>\n",
              "      <td>11229</td>\n",
              "      <td>Midwood</td>\n",
              "      <td>11230.0</td>\n",
              "    </tr>\n",
              "    <tr>\n",
              "      <th>14</th>\n",
              "      <td>Carroll Gardens/Red Hook</td>\n",
              "      <td>11231</td>\n",
              "      <td>Industry City/Sunset Park</td>\n",
              "      <td>11232.0</td>\n",
              "    </tr>\n",
              "    <tr>\n",
              "      <th>15</th>\n",
              "      <td>Stuyvesant Heights</td>\n",
              "      <td>11233</td>\n",
              "      <td>Flatlands/Mill Basin</td>\n",
              "      <td>11234.0</td>\n",
              "    </tr>\n",
              "    <tr>\n",
              "      <th>16</th>\n",
              "      <td>Sheepshead Bay/Brighton Beach</td>\n",
              "      <td>11235</td>\n",
              "      <td>Canarsie</td>\n",
              "      <td>11236.0</td>\n",
              "    </tr>\n",
              "    <tr>\n",
              "      <th>17</th>\n",
              "      <td>Bushwick</td>\n",
              "      <td>11237</td>\n",
              "      <td>Prospect Heights</td>\n",
              "      <td>11238.0</td>\n",
              "    </tr>\n",
              "    <tr>\n",
              "      <th>18</th>\n",
              "      <td>Starrett City</td>\n",
              "      <td>11239</td>\n",
              "      <td>NaN</td>\n",
              "      <td>NaN</td>\n",
              "    </tr>\n",
              "  </tbody>\n",
              "</table>\n",
              "</div>"
            ],
            "text/plain": [
              "                          City Name  ...  Zip Code.1\n",
              "0      Brooklyn Heights/Cobble Hill  ...     11203.0\n",
              "1             Parkville/Bensonhurst  ...     11205.0\n",
              "2   Williamsburg/Bedford-Stuyvesant  ...     11207.0\n",
              "3                     Cypress Hills  ...     11209.0\n",
              "4               Vanderveer/Flatbush  ...     11211.0\n",
              "5                       Brownsville  ...     11213.0\n",
              "6            Bath Beach/Bensonhurst  ...     11215.0\n",
              "7                Bedford-Stuyvesant  ...     11217.0\n",
              "8        Kensington/Windsor Terrace  ...     11219.0\n",
              "9                       Sunset Park  ...     11221.0\n",
              "10                       Greenpoint  ...     11223.0\n",
              "11                     Coney Island  ...     11225.0\n",
              "12                         Flatbush  ...     11228.0\n",
              "13                Homecrest/Madison  ...     11230.0\n",
              "14         Carroll Gardens/Red Hook  ...     11232.0\n",
              "15               Stuyvesant Heights  ...     11234.0\n",
              "16    Sheepshead Bay/Brighton Beach  ...     11236.0\n",
              "17                         Bushwick  ...     11238.0\n",
              "18                    Starrett City  ...         NaN\n",
              "\n",
              "[19 rows x 4 columns]"
            ]
          },
          "metadata": {
            "tags": []
          },
          "execution_count": 3
        }
      ]
    },
    {
      "cell_type": "code",
      "metadata": {
        "id": "iMLHR0bI_xdP",
        "colab_type": "code",
        "colab": {
          "base_uri": "https://localhost:8080/",
          "height": 197
        },
        "outputId": "3b37d849-3b91-482f-921a-ad5293976a9d"
      },
      "source": [
        "#Clean up the data so it's all in one data frame with 2 columns, neighborhood name and zip code\n",
        "\n",
        "bk_1 = bk.filter(['City Name', 'Zip Code'], axis = 1)\n",
        "bk_2 = bk.filter(['City Name.1', 'Zip Code.1'], axis = 1)\n",
        "\n",
        "bk_2.rename(columns = {'City Name.1': 'City Name', 'Zip Code.1': 'Zip Code'}, inplace=True)\n",
        "\n",
        "bk = bk_1.append(bk_2)\n",
        "\n",
        "bk.reset_index(inplace=True)\n",
        "bk.drop(columns = 'index', inplace=True)\n",
        "\n",
        "bk.dropna(inplace=True)\n",
        "\n",
        "bk['Zip Code'] = bk['Zip Code'].astype(int)\n",
        "\n",
        "bk.rename(columns = {'City Name':'Neighborhood', 'Zip Code': 'Post Code'}, inplace= True)\n",
        "bk.head()"
      ],
      "execution_count": 4,
      "outputs": [
        {
          "output_type": "execute_result",
          "data": {
            "text/html": [
              "<div>\n",
              "<style scoped>\n",
              "    .dataframe tbody tr th:only-of-type {\n",
              "        vertical-align: middle;\n",
              "    }\n",
              "\n",
              "    .dataframe tbody tr th {\n",
              "        vertical-align: top;\n",
              "    }\n",
              "\n",
              "    .dataframe thead th {\n",
              "        text-align: right;\n",
              "    }\n",
              "</style>\n",
              "<table border=\"1\" class=\"dataframe\">\n",
              "  <thead>\n",
              "    <tr style=\"text-align: right;\">\n",
              "      <th></th>\n",
              "      <th>Neighborhood</th>\n",
              "      <th>Post Code</th>\n",
              "    </tr>\n",
              "  </thead>\n",
              "  <tbody>\n",
              "    <tr>\n",
              "      <th>0</th>\n",
              "      <td>Brooklyn Heights/Cobble Hill</td>\n",
              "      <td>11201</td>\n",
              "    </tr>\n",
              "    <tr>\n",
              "      <th>1</th>\n",
              "      <td>Parkville/Bensonhurst</td>\n",
              "      <td>11204</td>\n",
              "    </tr>\n",
              "    <tr>\n",
              "      <th>2</th>\n",
              "      <td>Williamsburg/Bedford-Stuyvesant</td>\n",
              "      <td>11206</td>\n",
              "    </tr>\n",
              "    <tr>\n",
              "      <th>3</th>\n",
              "      <td>Cypress Hills</td>\n",
              "      <td>11208</td>\n",
              "    </tr>\n",
              "    <tr>\n",
              "      <th>4</th>\n",
              "      <td>Vanderveer/Flatbush</td>\n",
              "      <td>11210</td>\n",
              "    </tr>\n",
              "  </tbody>\n",
              "</table>\n",
              "</div>"
            ],
            "text/plain": [
              "                      Neighborhood  Post Code\n",
              "0     Brooklyn Heights/Cobble Hill      11201\n",
              "1            Parkville/Bensonhurst      11204\n",
              "2  Williamsburg/Bedford-Stuyvesant      11206\n",
              "3                    Cypress Hills      11208\n",
              "4              Vanderveer/Flatbush      11210"
            ]
          },
          "metadata": {
            "tags": []
          },
          "execution_count": 4
        }
      ]
    },
    {
      "cell_type": "code",
      "metadata": {
        "id": "uNy7zT2pt8yl",
        "colab_type": "code",
        "colab": {}
      },
      "source": [
        "# Define lat/lon functions to add columns to dataframe\n",
        "\n",
        "geolocator = Nominatim(user_agent=\"foursquare_agent\")\n",
        "\n",
        "def latitude(address):\n",
        "  location = geolocator.geocode(address)\n",
        "  lat = location.latitude\n",
        "  return lat\n",
        "\n",
        "def longitude(address):\n",
        "  location = geolocator.geocode(address)\n",
        "  lon = location.longitude\n",
        "  return lon\n"
      ],
      "execution_count": 5,
      "outputs": []
    },
    {
      "cell_type": "code",
      "metadata": {
        "id": "vmxZ1I72uFRE",
        "colab_type": "code",
        "colab": {}
      },
      "source": [
        "bk['latitude'] = bk['Post Code'].apply(lambda x: latitude(x))\n",
        "bk['longitude'] = bk['Post Code'].apply(lambda x: longitude(x))"
      ],
      "execution_count": 6,
      "outputs": []
    },
    {
      "cell_type": "code",
      "metadata": {
        "id": "nTR2Xhe5vBam",
        "colab_type": "code",
        "colab": {
          "base_uri": "https://localhost:8080/",
          "height": 1000
        },
        "outputId": "5a359d6d-91aa-4949-bb75-dd0804056f5f"
      },
      "source": [
        "bk"
      ],
      "execution_count": 7,
      "outputs": [
        {
          "output_type": "execute_result",
          "data": {
            "text/html": [
              "<div>\n",
              "<style scoped>\n",
              "    .dataframe tbody tr th:only-of-type {\n",
              "        vertical-align: middle;\n",
              "    }\n",
              "\n",
              "    .dataframe tbody tr th {\n",
              "        vertical-align: top;\n",
              "    }\n",
              "\n",
              "    .dataframe thead th {\n",
              "        text-align: right;\n",
              "    }\n",
              "</style>\n",
              "<table border=\"1\" class=\"dataframe\">\n",
              "  <thead>\n",
              "    <tr style=\"text-align: right;\">\n",
              "      <th></th>\n",
              "      <th>Neighborhood</th>\n",
              "      <th>Post Code</th>\n",
              "      <th>latitude</th>\n",
              "      <th>longitude</th>\n",
              "    </tr>\n",
              "  </thead>\n",
              "  <tbody>\n",
              "    <tr>\n",
              "      <th>0</th>\n",
              "      <td>Brooklyn Heights/Cobble Hill</td>\n",
              "      <td>11201</td>\n",
              "      <td>40.696131</td>\n",
              "      <td>-73.996413</td>\n",
              "    </tr>\n",
              "    <tr>\n",
              "      <th>1</th>\n",
              "      <td>Parkville/Bensonhurst</td>\n",
              "      <td>11204</td>\n",
              "      <td>40.617336</td>\n",
              "      <td>-73.985333</td>\n",
              "    </tr>\n",
              "    <tr>\n",
              "      <th>2</th>\n",
              "      <td>Williamsburg/Bedford-Stuyvesant</td>\n",
              "      <td>11206</td>\n",
              "      <td>40.697646</td>\n",
              "      <td>-73.942416</td>\n",
              "    </tr>\n",
              "    <tr>\n",
              "      <th>3</th>\n",
              "      <td>Cypress Hills</td>\n",
              "      <td>11208</td>\n",
              "      <td>40.674337</td>\n",
              "      <td>-73.865342</td>\n",
              "    </tr>\n",
              "    <tr>\n",
              "      <th>4</th>\n",
              "      <td>Vanderveer/Flatbush</td>\n",
              "      <td>11210</td>\n",
              "      <td>43.022532</td>\n",
              "      <td>3.035715</td>\n",
              "    </tr>\n",
              "    <tr>\n",
              "      <th>5</th>\n",
              "      <td>Brownsville</td>\n",
              "      <td>11212</td>\n",
              "      <td>54.689959</td>\n",
              "      <td>25.421529</td>\n",
              "    </tr>\n",
              "    <tr>\n",
              "      <th>6</th>\n",
              "      <td>Bath Beach/Bensonhurst</td>\n",
              "      <td>11214</td>\n",
              "      <td>40.596492</td>\n",
              "      <td>-73.999159</td>\n",
              "    </tr>\n",
              "    <tr>\n",
              "      <th>7</th>\n",
              "      <td>Bedford-Stuyvesant</td>\n",
              "      <td>11216</td>\n",
              "      <td>54.686545</td>\n",
              "      <td>25.424749</td>\n",
              "    </tr>\n",
              "    <tr>\n",
              "      <th>8</th>\n",
              "      <td>Kensington/Windsor Terrace</td>\n",
              "      <td>11218</td>\n",
              "      <td>54.688060</td>\n",
              "      <td>25.426231</td>\n",
              "    </tr>\n",
              "    <tr>\n",
              "      <th>9</th>\n",
              "      <td>Sunset Park</td>\n",
              "      <td>11220</td>\n",
              "      <td>43.091901</td>\n",
              "      <td>2.620856</td>\n",
              "    </tr>\n",
              "    <tr>\n",
              "      <th>10</th>\n",
              "      <td>Greenpoint</td>\n",
              "      <td>11222</td>\n",
              "      <td>54.687622</td>\n",
              "      <td>25.432035</td>\n",
              "    </tr>\n",
              "    <tr>\n",
              "      <th>11</th>\n",
              "      <td>Coney Island</td>\n",
              "      <td>11224</td>\n",
              "      <td>40.574249</td>\n",
              "      <td>-73.986996</td>\n",
              "    </tr>\n",
              "    <tr>\n",
              "      <th>12</th>\n",
              "      <td>Flatbush</td>\n",
              "      <td>11226</td>\n",
              "      <td>40.677230</td>\n",
              "      <td>-73.952692</td>\n",
              "    </tr>\n",
              "    <tr>\n",
              "      <th>13</th>\n",
              "      <td>Homecrest/Madison</td>\n",
              "      <td>11229</td>\n",
              "      <td>40.595404</td>\n",
              "      <td>-73.937682</td>\n",
              "    </tr>\n",
              "    <tr>\n",
              "      <th>14</th>\n",
              "      <td>Carroll Gardens/Red Hook</td>\n",
              "      <td>11231</td>\n",
              "      <td>40.679395</td>\n",
              "      <td>-74.017328</td>\n",
              "    </tr>\n",
              "    <tr>\n",
              "      <th>15</th>\n",
              "      <td>Stuyvesant Heights</td>\n",
              "      <td>11233</td>\n",
              "      <td>40.677468</td>\n",
              "      <td>-73.925821</td>\n",
              "    </tr>\n",
              "    <tr>\n",
              "      <th>16</th>\n",
              "      <td>Sheepshead Bay/Brighton Beach</td>\n",
              "      <td>11235</td>\n",
              "      <td>40.580426</td>\n",
              "      <td>-73.965849</td>\n",
              "    </tr>\n",
              "    <tr>\n",
              "      <th>17</th>\n",
              "      <td>Bushwick</td>\n",
              "      <td>11237</td>\n",
              "      <td>40.712576</td>\n",
              "      <td>-73.929184</td>\n",
              "    </tr>\n",
              "    <tr>\n",
              "      <th>18</th>\n",
              "      <td>Starrett City</td>\n",
              "      <td>11239</td>\n",
              "      <td>40.649359</td>\n",
              "      <td>-73.882873</td>\n",
              "    </tr>\n",
              "    <tr>\n",
              "      <th>19</th>\n",
              "      <td>East Flatbush</td>\n",
              "      <td>11203</td>\n",
              "      <td>40.649056</td>\n",
              "      <td>-73.934033</td>\n",
              "    </tr>\n",
              "    <tr>\n",
              "      <th>20</th>\n",
              "      <td>Fort Greene</td>\n",
              "      <td>11205</td>\n",
              "      <td>40.690585</td>\n",
              "      <td>-73.965604</td>\n",
              "    </tr>\n",
              "    <tr>\n",
              "      <th>21</th>\n",
              "      <td>East New York</td>\n",
              "      <td>11207</td>\n",
              "      <td>40.686892</td>\n",
              "      <td>-73.912723</td>\n",
              "    </tr>\n",
              "    <tr>\n",
              "      <th>22</th>\n",
              "      <td>Bay Ridge</td>\n",
              "      <td>11209</td>\n",
              "      <td>40.640986</td>\n",
              "      <td>-74.034188</td>\n",
              "    </tr>\n",
              "    <tr>\n",
              "      <th>23</th>\n",
              "      <td>Williamsburg</td>\n",
              "      <td>11211</td>\n",
              "      <td>40.718247</td>\n",
              "      <td>-73.966023</td>\n",
              "    </tr>\n",
              "    <tr>\n",
              "      <th>24</th>\n",
              "      <td>Brower Park/Crown Heights</td>\n",
              "      <td>11213</td>\n",
              "      <td>40.670877</td>\n",
              "      <td>-73.937533</td>\n",
              "    </tr>\n",
              "    <tr>\n",
              "      <th>25</th>\n",
              "      <td>Park Slope/Windsor Terrace</td>\n",
              "      <td>11215</td>\n",
              "      <td>40.665364</td>\n",
              "      <td>-73.989161</td>\n",
              "    </tr>\n",
              "    <tr>\n",
              "      <th>26</th>\n",
              "      <td>Park Slope/Gowanus</td>\n",
              "      <td>11217</td>\n",
              "      <td>40.679402</td>\n",
              "      <td>-73.974436</td>\n",
              "    </tr>\n",
              "    <tr>\n",
              "      <th>27</th>\n",
              "      <td>Borough Park</td>\n",
              "      <td>11219</td>\n",
              "      <td>54.688727</td>\n",
              "      <td>25.423411</td>\n",
              "    </tr>\n",
              "    <tr>\n",
              "      <th>28</th>\n",
              "      <td>Bushwick/Bedford-Stuyvesant</td>\n",
              "      <td>11221</td>\n",
              "      <td>40.692581</td>\n",
              "      <td>-73.942499</td>\n",
              "    </tr>\n",
              "    <tr>\n",
              "      <th>29</th>\n",
              "      <td>Gravesend/Homecrest</td>\n",
              "      <td>11223</td>\n",
              "      <td>40.583953</td>\n",
              "      <td>-73.973499</td>\n",
              "    </tr>\n",
              "    <tr>\n",
              "      <th>30</th>\n",
              "      <td>Crown Heights</td>\n",
              "      <td>11225</td>\n",
              "      <td>40.662449</td>\n",
              "      <td>-73.952876</td>\n",
              "    </tr>\n",
              "    <tr>\n",
              "      <th>31</th>\n",
              "      <td>Dyker Heights</td>\n",
              "      <td>11228</td>\n",
              "      <td>54.684870</td>\n",
              "      <td>25.426249</td>\n",
              "    </tr>\n",
              "    <tr>\n",
              "      <th>32</th>\n",
              "      <td>Midwood</td>\n",
              "      <td>11230</td>\n",
              "      <td>54.682850</td>\n",
              "      <td>25.427139</td>\n",
              "    </tr>\n",
              "    <tr>\n",
              "      <th>33</th>\n",
              "      <td>Industry City/Sunset Park</td>\n",
              "      <td>11232</td>\n",
              "      <td>54.681213</td>\n",
              "      <td>25.423904</td>\n",
              "    </tr>\n",
              "    <tr>\n",
              "      <th>34</th>\n",
              "      <td>Flatlands/Mill Basin</td>\n",
              "      <td>11234</td>\n",
              "      <td>40.586176</td>\n",
              "      <td>-73.886609</td>\n",
              "    </tr>\n",
              "    <tr>\n",
              "      <th>35</th>\n",
              "      <td>Canarsie</td>\n",
              "      <td>11236</td>\n",
              "      <td>40.638751</td>\n",
              "      <td>-73.902877</td>\n",
              "    </tr>\n",
              "    <tr>\n",
              "      <th>36</th>\n",
              "      <td>Prospect Heights</td>\n",
              "      <td>11238</td>\n",
              "      <td>40.682243</td>\n",
              "      <td>-73.962197</td>\n",
              "    </tr>\n",
              "  </tbody>\n",
              "</table>\n",
              "</div>"
            ],
            "text/plain": [
              "                       Neighborhood  Post Code   latitude  longitude\n",
              "0      Brooklyn Heights/Cobble Hill      11201  40.696131 -73.996413\n",
              "1             Parkville/Bensonhurst      11204  40.617336 -73.985333\n",
              "2   Williamsburg/Bedford-Stuyvesant      11206  40.697646 -73.942416\n",
              "3                     Cypress Hills      11208  40.674337 -73.865342\n",
              "4               Vanderveer/Flatbush      11210  43.022532   3.035715\n",
              "5                       Brownsville      11212  54.689959  25.421529\n",
              "6            Bath Beach/Bensonhurst      11214  40.596492 -73.999159\n",
              "7                Bedford-Stuyvesant      11216  54.686545  25.424749\n",
              "8        Kensington/Windsor Terrace      11218  54.688060  25.426231\n",
              "9                       Sunset Park      11220  43.091901   2.620856\n",
              "10                       Greenpoint      11222  54.687622  25.432035\n",
              "11                     Coney Island      11224  40.574249 -73.986996\n",
              "12                         Flatbush      11226  40.677230 -73.952692\n",
              "13                Homecrest/Madison      11229  40.595404 -73.937682\n",
              "14         Carroll Gardens/Red Hook      11231  40.679395 -74.017328\n",
              "15               Stuyvesant Heights      11233  40.677468 -73.925821\n",
              "16    Sheepshead Bay/Brighton Beach      11235  40.580426 -73.965849\n",
              "17                         Bushwick      11237  40.712576 -73.929184\n",
              "18                    Starrett City      11239  40.649359 -73.882873\n",
              "19                    East Flatbush      11203  40.649056 -73.934033\n",
              "20                      Fort Greene      11205  40.690585 -73.965604\n",
              "21                    East New York      11207  40.686892 -73.912723\n",
              "22                        Bay Ridge      11209  40.640986 -74.034188\n",
              "23                     Williamsburg      11211  40.718247 -73.966023\n",
              "24        Brower Park/Crown Heights      11213  40.670877 -73.937533\n",
              "25       Park Slope/Windsor Terrace      11215  40.665364 -73.989161\n",
              "26               Park Slope/Gowanus      11217  40.679402 -73.974436\n",
              "27                     Borough Park      11219  54.688727  25.423411\n",
              "28      Bushwick/Bedford-Stuyvesant      11221  40.692581 -73.942499\n",
              "29              Gravesend/Homecrest      11223  40.583953 -73.973499\n",
              "30                    Crown Heights      11225  40.662449 -73.952876\n",
              "31                    Dyker Heights      11228  54.684870  25.426249\n",
              "32                          Midwood      11230  54.682850  25.427139\n",
              "33        Industry City/Sunset Park      11232  54.681213  25.423904\n",
              "34             Flatlands/Mill Basin      11234  40.586176 -73.886609\n",
              "35                         Canarsie      11236  40.638751 -73.902877\n",
              "36                 Prospect Heights      11238  40.682243 -73.962197"
            ]
          },
          "metadata": {
            "tags": []
          },
          "execution_count": 7
        }
      ]
    },
    {
      "cell_type": "code",
      "metadata": {
        "id": "DItcpTGrBFBU",
        "colab_type": "code",
        "colab": {}
      },
      "source": [
        "ldn = pd.read_csv('https://raw.githubusercontent.com/clairemasse/Coursera_capstone/master/london_postcodes%20-%20London_postcodes%20-%20Sheet2%20(1)%20(1).csv')"
      ],
      "execution_count": 8,
      "outputs": []
    },
    {
      "cell_type": "code",
      "metadata": {
        "id": "-wxQ0kRLHuFt",
        "colab_type": "code",
        "colab": {}
      },
      "source": [
        "ldn['location'] = ldn['Neighborhood'].apply(lambda x: geolocator.geocode(x))\n",
        "ldn.dropna(inplace=True)"
      ],
      "execution_count": null,
      "outputs": []
    },
    {
      "cell_type": "code",
      "metadata": {
        "id": "GeG7rTnHJy8U",
        "colab_type": "code",
        "colab": {}
      },
      "source": [
        "ldn.reset_index(inplace=True)\n",
        "ldn"
      ],
      "execution_count": null,
      "outputs": []
    },
    {
      "cell_type": "code",
      "metadata": {
        "id": "cQjOqwGkRpT6",
        "colab_type": "code",
        "colab": {}
      },
      "source": [
        "ldn.drop(['index', 'location'],axis=1,inplace=True)"
      ],
      "execution_count": null,
      "outputs": []
    },
    {
      "cell_type": "code",
      "metadata": {
        "id": "zYRBNgwTB8e9",
        "colab_type": "code",
        "colab": {}
      },
      "source": [
        "ldn['latitude'] = ldn['Neighborhood'].apply(lambda x:latitude(x))\n",
        "ldn['longitude'] = ldn['Neighborhood'].apply(lambda x: longitude(x))"
      ],
      "execution_count": null,
      "outputs": []
    },
    {
      "cell_type": "code",
      "metadata": {
        "id": "E6RovJdRJ8fH",
        "colab_type": "code",
        "colab": {}
      },
      "source": [
        "ldn"
      ],
      "execution_count": null,
      "outputs": []
    },
    {
      "cell_type": "code",
      "metadata": {
        "id": "__CRXFMLCDcL",
        "colab_type": "code",
        "colab": {}
      },
      "source": [
        "neighborhoods = ldn.append(bk)"
      ],
      "execution_count": null,
      "outputs": []
    },
    {
      "cell_type": "code",
      "metadata": {
        "id": "znNer_2PCE-G",
        "colab_type": "code",
        "colab": {}
      },
      "source": [
        "neighborhoods.reset_index(inplace=True)\n"
      ],
      "execution_count": null,
      "outputs": []
    },
    {
      "cell_type": "code",
      "metadata": {
        "id": "ynYD3ut2Z9ez",
        "colab_type": "code",
        "colab": {}
      },
      "source": [
        "neighborhoods.drop('index', axis=1, inplace= True)"
      ],
      "execution_count": null,
      "outputs": []
    },
    {
      "cell_type": "code",
      "metadata": {
        "id": "MeOVyHgOZ-Pq",
        "colab_type": "code",
        "colab": {}
      },
      "source": [
        "neighborhoods"
      ],
      "execution_count": null,
      "outputs": []
    },
    {
      "cell_type": "code",
      "metadata": {
        "id": "nLA57AOyaG6c",
        "colab_type": "code",
        "colab": {}
      },
      "source": [
        "# create map of Brooklyn using latitude and longitude values\n",
        "bk_lat = 40.650002\n",
        "bk_lon = -73.949997\n",
        "map_bk = folium.Map(location=[bk_lat, bk_lon], zoom_start=12)\n",
        "\n",
        "# add markers to map\n",
        "for lat, lng, neighborhood in zip(neighborhoods['latitude'], neighborhoods['longitude'], neighborhoods['Neighborhood']):\n",
        "    label = neighborhood\n",
        "    label = folium.Popup(label, parse_html=True)\n",
        "    folium.CircleMarker(\n",
        "        [lat, lng],\n",
        "        radius=5,\n",
        "        popup=label,\n",
        "        color='blue',\n",
        "        fill=True,\n",
        "        fill_color='#3186cc',\n",
        "        fill_opacity=0.7,\n",
        "        parse_html=False).add_to(map_bk)  \n",
        "    \n",
        "map_bk"
      ],
      "execution_count": null,
      "outputs": []
    },
    {
      "cell_type": "code",
      "metadata": {
        "id": "ScE_ccLVjb-4",
        "colab_type": "code",
        "colab": {}
      },
      "source": [
        "# create map of London using latitude and longitude values\n",
        "ldn_lat = 51.509865\n",
        "ldn_lon = -0.118092\n",
        "map_ldn = folium.Map(location=[ldn_lat, ldn_lon], zoom_start=11.5)\n",
        "\n",
        "# add markers to map\n",
        "for lat, lng, neighborhood in zip(neighborhoods['latitude'], neighborhoods['longitude'], neighborhoods['Neighborhood']):\n",
        "    label = neighborhood\n",
        "    label = folium.Popup(label, parse_html=True)\n",
        "    folium.CircleMarker(\n",
        "        [lat, lng],\n",
        "        radius=5,\n",
        "        popup=label,\n",
        "        color='blue',\n",
        "        fill=True,\n",
        "        fill_color='#3186cc',\n",
        "        fill_opacity=0.7,\n",
        "        parse_html=False).add_to(map_ldn)  \n",
        "    \n",
        "map_ldn"
      ],
      "execution_count": null,
      "outputs": []
    },
    {
      "cell_type": "code",
      "metadata": {
        "id": "uwg_ITrikH6G",
        "colab_type": "code",
        "colab": {}
      },
      "source": [
        "# Now that we have all the neighborhoods in both cities marked and identified, it's time cluster them using Foursquare API location data\n",
        "\n",
        "import json # library to handle JSON files\n",
        "\n",
        "import requests # library to handle requests\n",
        "from pandas.io.json import json_normalize # tranform JSON file into a pandas dataframe\n",
        "\n",
        "# Matplotlib and associated plotting modules\n",
        "import matplotlib.cm as cm\n",
        "import matplotlib.colors as colors\n",
        "\n",
        "# import k-means from clustering stage\n",
        "from sklearn.cluster import KMeans"
      ],
      "execution_count": null,
      "outputs": []
    },
    {
      "cell_type": "code",
      "metadata": {
        "id": "wlbRv0pty3FE",
        "colab_type": "code",
        "colab": {}
      },
      "source": [
        "# Foursquare API credentials\n",
        "\n",
        "CLIENT_ID = 'GLELENDKNLLSRPHH3U1MA2UMELUP5XGF2BLSAPNBONU1JNUN' \n",
        "CLIENT_SECRET = 'UUMVCYSAIG5SXZR2KAD1WIROGCP5DIEM3N3E4BT1I1QEDSAE' \n",
        "VERSION = '20180605' \n",
        "\n"
      ],
      "execution_count": null,
      "outputs": []
    },
    {
      "cell_type": "code",
      "metadata": {
        "id": "kKs9OWndy7vk",
        "colab_type": "code",
        "colab": {}
      },
      "source": [
        "LIMIT = 100\n",
        "def getNearbyVenues(names, latitudes, longitudes, radius=500):\n",
        "    \n",
        "    venues_list=[]\n",
        "    for name, lat, lng in zip(names, latitudes, longitudes):\n",
        "        print(name)\n",
        "            \n",
        "        # create the API request URL\n",
        "        url = 'https://api.foursquare.com/v2/venues/explore?&client_id={}&client_secret={}&v={}&ll={},{}&radius={}&limit={}'.format(\n",
        "            CLIENT_ID, \n",
        "            CLIENT_SECRET, \n",
        "            VERSION, \n",
        "            lat, \n",
        "            lng, \n",
        "            radius, \n",
        "            LIMIT)\n",
        "            \n",
        "        # make the GET request\n",
        "        results = requests.get(url).json()[\"response\"]['groups'][0]['items']\n",
        "        \n",
        "        # return only relevant information for each nearby venue\n",
        "        venues_list.append([(\n",
        "            name, \n",
        "            lat, \n",
        "            lng, \n",
        "            v['venue']['name'], \n",
        "            v['venue']['location']['lat'], \n",
        "            v['venue']['location']['lng'],  \n",
        "            v['venue']['categories'][0]['name']) for v in results])\n",
        "\n",
        "    nearby_venues = pd.DataFrame([item for venue_list in venues_list for item in venue_list])\n",
        "    nearby_venues.columns = ['Neighborhood', \n",
        "                  'Neighborhood Latitude', \n",
        "                  'Neighborhood Longitude', \n",
        "                  'Venue', \n",
        "                  'Venue Latitude', \n",
        "                  'Venue Longitude', \n",
        "                  'Venue Category']\n",
        "    \n",
        "    return(nearby_venues)"
      ],
      "execution_count": null,
      "outputs": []
    },
    {
      "cell_type": "code",
      "metadata": {
        "id": "5KDUGsTszQE8",
        "colab_type": "code",
        "colab": {}
      },
      "source": [
        "bkldn_venues = getNearbyVenues(names=neighborhoods['Neighborhood'],\n",
        "                                   latitudes=neighborhoods['latitude'],\n",
        "                                   longitudes=neighborhoods['longitude']\n",
        "                                  )"
      ],
      "execution_count": null,
      "outputs": []
    },
    {
      "cell_type": "code",
      "metadata": {
        "id": "4OYqir87zVEK",
        "colab_type": "code",
        "colab": {}
      },
      "source": [
        "print('The dataframe returns', bkldn_venues.shape[0], 'venues.')\n",
        "bkldn_venues.head()"
      ],
      "execution_count": null,
      "outputs": []
    },
    {
      "cell_type": "code",
      "metadata": {
        "id": "_TkHUY4sz7HH",
        "colab_type": "code",
        "colab": {}
      },
      "source": [
        "# Number of venues per neighborhood\n",
        "display(bkldn_venues.groupby('Neighborhood')['Venue'].count().head(10))"
      ],
      "execution_count": null,
      "outputs": []
    },
    {
      "cell_type": "code",
      "metadata": {
        "id": "tx6yusE90Gup",
        "colab_type": "code",
        "colab": {}
      },
      "source": [
        "print('There are {} unique categories.'.format(len(bkldn_venues['Venue Category'].unique())))"
      ],
      "execution_count": null,
      "outputs": []
    },
    {
      "cell_type": "markdown",
      "metadata": {
        "id": "ahZguQe30Rq2",
        "colab_type": "text"
      },
      "source": [
        "We will use one-hot encoding to analyze all the different neighborhoods"
      ]
    },
    {
      "cell_type": "code",
      "metadata": {
        "id": "-4RdcVoz0M5o",
        "colab_type": "code",
        "colab": {}
      },
      "source": [
        "# one hot encoding\n",
        "bkldn_onehot = pd.get_dummies(bkldn_venues[['Venue Category']], prefix=\"\", prefix_sep=\"\")\n",
        "\n",
        "# add neighborhood column back to dataframe\n",
        "bkldn_onehot['Neighborhood'] = bkldn_venues['Neighborhood'] \n",
        "\n",
        "# move neighborhood column to the first column\n",
        "fixed_columns = [bkldn_onehot.columns[-1]] + list(bkldn_onehot.columns[:-1])\n",
        "bkldn_onehot = bkldn_onehot[fixed_columns]\n",
        "\n",
        "bkldn_onehot.head()"
      ],
      "execution_count": null,
      "outputs": []
    },
    {
      "cell_type": "code",
      "metadata": {
        "id": "USkYj1gM0i_H",
        "colab_type": "code",
        "colab": {}
      },
      "source": [
        "#Let's group by neighborhood and take the mean of the frequency of occurence of each category\n",
        "\n",
        "bkldn_grouped = bkldn_onehot.groupby('Neighborhood').mean().reset_index()\n",
        "display(bkldn_grouped.head())\n"
      ],
      "execution_count": null,
      "outputs": []
    },
    {
      "cell_type": "code",
      "metadata": {
        "id": "b_0TX4_m0v_5",
        "colab_type": "code",
        "colab": {}
      },
      "source": [
        "#Top 5 venues in each neighborhood\n",
        "\n",
        "num_top_venues = 5\n",
        "\n",
        "for hood in bkldn_grouped['Neighborhood']:\n",
        "    print(\"----\"+hood+\"----\")\n",
        "    temp = bkldn_grouped[bkldn_grouped['Neighborhood'] == hood].T.reset_index()\n",
        "    temp.columns = ['venue','freq']\n",
        "    temp = temp.iloc[1:]\n",
        "    temp['freq'] = temp['freq'].astype(float)\n",
        "    temp = temp.round({'freq': 2})\n",
        "    print(temp.sort_values('freq', ascending=False).reset_index(drop=True).head(num_top_venues))\n",
        "    print('\\n')"
      ],
      "execution_count": null,
      "outputs": []
    },
    {
      "cell_type": "code",
      "metadata": {
        "id": "kehAZXJu0-r4",
        "colab_type": "code",
        "colab": {}
      },
      "source": [
        "### Put above into a pandas dataframe\n",
        "\n",
        "# Function to sort the venues in descending order\n",
        "\n",
        "def return_most_common_venues(row, num_top_venues):\n",
        "    row_categories = row.iloc[1:]\n",
        "    row_categories_sorted = row_categories.sort_values(ascending=False)\n",
        "    return row_categories_sorted.index.values[0:num_top_venues]\n",
        "\n",
        "\n",
        "# create dataframe and display top 10 venues for each neighborhood\n",
        "\n",
        "num_top_venues = 10\n",
        "\n",
        "indicators = ['st', 'nd', 'rd']\n",
        "\n",
        "# create columns according to number of top venues\n",
        "columns = ['Neighborhood']\n",
        "for ind in np.arange(num_top_venues):\n",
        "    try:\n",
        "        columns.append('{}{} Most Common Venue'.format(ind+1, indicators[ind]))\n",
        "    except:\n",
        "        columns.append('{}th Most Common Venue'.format(ind+1))\n",
        "\n",
        "# create a new dataframe\n",
        "neighborhoods_venues_sorted = pd.DataFrame(columns=columns)\n",
        "neighborhoods_venues_sorted['Neighborhood'] = bkldn_grouped['Neighborhood']\n",
        "\n",
        "for ind in np.arange(bkldn_grouped.shape[0]):\n",
        "    neighborhoods_venues_sorted.iloc[ind, 1:] = return_most_common_venues(bkldn_grouped.iloc[ind, :], num_top_venues)\n",
        "\n",
        "neighborhoods_venues_sorted.head()"
      ],
      "execution_count": null,
      "outputs": []
    },
    {
      "cell_type": "markdown",
      "metadata": {
        "id": "dj7kMF0M1R29",
        "colab_type": "text"
      },
      "source": [
        "CLUSTER USING K-MEANS\n"
      ]
    },
    {
      "cell_type": "code",
      "metadata": {
        "id": "q1QFLzV61NFM",
        "colab_type": "code",
        "colab": {}
      },
      "source": [
        "# set number of clusters\n",
        "kclusters = 4\n",
        "\n",
        "bkldn_grouped_clustering = bkldn_grouped.drop('Neighborhood', 1)\n",
        "\n",
        "# run k-means clustering\n",
        "kmeans = KMeans(n_clusters=kclusters, random_state=0).fit(bkldn_grouped_clustering)\n",
        "\n",
        "# check cluster labels generated for each row in the dataframe\n",
        "kmeans.labels_[0:10] "
      ],
      "execution_count": null,
      "outputs": []
    },
    {
      "cell_type": "code",
      "metadata": {
        "id": "gLfd_WvS1Ypm",
        "colab_type": "code",
        "colab": {}
      },
      "source": [
        "# add clustering labels\n",
        "neighborhoods_venues_sorted.insert(0, 'Cluster Labels', kmeans.labels_)\n",
        "\n",
        "bkldn_merged = neighborhoods\n",
        "\n",
        "# merge bkldn data with original data to add latitude/longitude for each neighborhood\n",
        "bkldn_merged = bkldn_merged.join(neighborhoods_venues_sorted.set_index('Neighborhood'), on='Neighborhood')\n",
        "bkldn_merged.head() "
      ],
      "execution_count": null,
      "outputs": []
    },
    {
      "cell_type": "code",
      "metadata": {
        "id": "YeLRKnh21gY3",
        "colab_type": "code",
        "colab": {}
      },
      "source": [
        "bkldn_merged.groupby('Cluster Labels').count()"
      ],
      "execution_count": null,
      "outputs": []
    },
    {
      "cell_type": "code",
      "metadata": {
        "id": "bMs53J6m1yKM",
        "colab_type": "code",
        "colab": {}
      },
      "source": [
        ""
      ],
      "execution_count": null,
      "outputs": []
    }
  ]
}